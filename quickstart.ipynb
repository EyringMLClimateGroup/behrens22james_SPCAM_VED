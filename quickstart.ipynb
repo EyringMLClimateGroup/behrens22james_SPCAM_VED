{
 "cells": [
  {
   "cell_type": "markdown",
   "metadata": {},
   "source": [
    "# A brief explanation of the revamped CBRAIN module\n",
    "\n",
    "In this guide, we will go through the steps required to preprocess the raw climate model output, train a neural network and then analyze how good it is."
   ]
  },
  {
   "cell_type": "code",
   "execution_count": 13,
   "metadata": {},
   "outputs": [],
   "source": [
    "from cbrain.imports import *\n",
    "from cbrain.cam_constants import *\n",
    "from cbrain.utils import *"
   ]
  },
  {
   "cell_type": "markdown",
   "metadata": {},
   "source": [
    "## Preprocessing\n",
    "\n",
    "Preprocessing works using the `preprocessing.py` script in the main directory of the repository along with a configuration file. Let's have a look at one such configuration file to see what is required."
   ]
  },
  {
   "cell_type": "markdown",
   "metadata": {},
   "source": [
    "Here is `000_test.yml`:\n",
    "\n",
    "```yaml\n",
    "vars : [QBP, QCBP, QIBP, TBP, VBP, PS, SOLIN, SHFLX, LHFLX, PHQ, PHCLDLIQ, PHCLDICE, TPHYSTND, QRL, QRS, DTVKE, FSNT, FSNS, FLNT, FLNS, PRECT, PRECTEND, PRECST, PRECSTEN, Qdt_adiabatic, QCdt_adiabatic, QIdt_adiabatic, Tdt_adiabatic, Vdt_adiabatic]\n",
    "\n",
    "in_dir : /local/S.Rasp/sp32fbp_andkua/\n",
    "in_fns : AndKua_aqua_SPCAM3.0_sp_fbp32.cam2.h1.0000-01-0*-00000.nc\n",
    "\n",
    "out_dir: /local/S.Rasp/preprocessed_data/\n",
    "out_fn: 000_train.nc\n",
    "\n",
    "val_in_fns: AndKua_aqua_SPCAM3.0_sp_fbp32.cam2.h1.0000-02-0*-00000.nc\n",
    "val_out_fn: 000_valid.nc\n",
    "\n",
    "norm_fn: 000_norm.nc\n",
    "```\n",
    "\n",
    "One new thing is that it is not necessary to specifically state the input and output variables at the preprocessing script. These will be chosen later in the data generator. This mean that `vars` can contain as many variables as possible. This should reduce the number of times the preprocessing has to be run.\n",
    "\n",
    "Some of the variables are saved directly in the model output, e.g. `PHQ`, while others, e.g. `QBP` have to be derived. Currently, the following derived variables are available: `*dt_adiabatic`, `*BP` and `PRECST`. If you want to add others, you have to implement it in `convert_dataset.py`.\n",
    "\n",
    "`in_dir` and `in_fns` describe the raw climate model file names. `out_dir` and `out_fn` denote the path to the preprocessed file. \n",
    "\n",
    "The training dataset will additionally be preshuffled.\n",
    "\n",
    "If `val_*` is given, a separate validation dataset will be created.\n",
    "\n",
    "If `norm_fn` is given, statistics will be computed from the training dataset, e.g. the mean and standard deviation.  Note that for large training files this takes a very, very long time. Therefore, I recommend computing the normalization file on a small dataset and use it for the large training dataset."
   ]
  },
  {
   "cell_type": "code",
   "execution_count": 3,
   "metadata": {},
   "outputs": [
    {
     "name": "stdout",
     "output_type": "stream",
     "text": [
      "2019-04-03 14:52:26.858479: I tensorflow/core/platform/cpu_feature_guard.cc:141] Your CPU supports instructions that this TensorFlow binary was not compiled to use: SSE4.1 SSE4.2 AVX AVX2 AVX512F FMA\n",
      "2019-04-03 14:52:27.047180: I tensorflow/core/common_runtime/gpu/gpu_device.cc:1432] Found device 0 with properties: \n",
      "name: GeForce GTX 1080 major: 6 minor: 1 memoryClockRate(GHz): 1.7335\n",
      "pciBusID: 0000:b3:00.0\n",
      "totalMemory: 7.93GiB freeMemory: 6.04GiB\n",
      "2019-04-03 14:52:27.047219: I tensorflow/core/common_runtime/gpu/gpu_device.cc:1511] Adding visible gpu devices: 0\n",
      "2019-04-03 14:52:39.252462: I tensorflow/core/common_runtime/gpu/gpu_device.cc:982] Device interconnect StreamExecutor with strength 1 edge matrix:\n",
      "2019-04-03 14:52:39.253048: I tensorflow/core/common_runtime/gpu/gpu_device.cc:988]      0 \n",
      "2019-04-03 14:52:39.253084: I tensorflow/core/common_runtime/gpu/gpu_device.cc:1001] 0:   N \n",
      "2019-04-03 14:52:39.253949: I tensorflow/core/common_runtime/gpu/gpu_device.cc:1115] Created TensorFlow device (/job:localhost/replica:0/task:0/device:GPU:0 with 5814 MB memory) -> physical GPU (device: 0, name: GeForce GTX 1080, pci bus id: 0000:b3:00.0, compute capability: 6.1)\n",
      "04/03/2019 02:52:39 PM Preprocess training dataset\n",
      "04/03/2019 02:52:39 PM Start preprocessing file /local/S.Rasp/preprocessed_data/000_train.nc\n",
      "04/03/2019 02:52:39 PM Reading input files\n",
      "04/03/2019 02:52:40 PM Crop levels\n",
      "04/03/2019 02:52:40 PM Create stacked dataarray\n",
      "These time steps are cut: []\n",
      "04/03/2019 02:52:40 PM Stack and reshape dataarray\n",
      "04/03/2019 02:52:43 PM Save dataarray as /local/S.Rasp/preprocessed_data/000_train.nc\n",
      "04/03/2019 02:57:17 PM Done!\n",
      "04/03/2019 02:57:17 PM Shuffle training dataset\n",
      "04/03/2019 02:57:17 PM Start shuffling /local/S.Rasp/preprocessed_data/000_train.nc into /local/S.Rasp/preprocessed_data/000_train_shuffle.nc. Open and create datasets.\n",
      "04/03/2019 02:57:18 PM Shuffle!\n",
      "100%|█████████████████████████████████████████████| 1/1 [00:41<00:00, 41.28s/it]\n",
      "04/03/2019 02:57:59 PM Closing datasets\n",
      "04/03/2019 02:57:59 PM Done!\n",
      "04/03/2019 02:57:59 PM Preprocess validation dataset\n",
      "04/03/2019 02:57:59 PM Start preprocessing file /local/S.Rasp/preprocessed_data/000_valid.nc\n",
      "04/03/2019 02:57:59 PM Reading input files\n",
      "04/03/2019 02:58:06 PM Crop levels\n",
      "04/03/2019 02:58:06 PM Create stacked dataarray\n",
      "These time steps are cut: []\n",
      "04/03/2019 02:58:07 PM Stack and reshape dataarray\n",
      "04/03/2019 02:58:10 PM Save dataarray as /local/S.Rasp/preprocessed_data/000_valid.nc\n",
      "04/03/2019 03:02:38 PM Done!\n",
      "04/03/2019 03:02:38 PM Compute normalization file from train\n",
      "04/03/2019 03:02:38 PM Start normalizing by creating dataset.\n",
      "04/03/2019 03:02:38 PM Compute standard normalizations.\n",
      "04/03/2019 03:05:30 PM Saving normalization file as /local/S.Rasp/preprocessed_data/000_norm.nc\n",
      "04/03/2019 03:05:30 PM Done!\n",
      "04/03/2019 03:05:31 PM Finish entire preprocessing script.\n"
     ]
    }
   ],
   "source": [
    "!python preprocessing.py -c pp_config/000_test.yml"
   ]
  },
  {
   "cell_type": "code",
   "execution_count": 6,
   "metadata": {},
   "outputs": [
    {
     "name": "stdout",
     "output_type": "stream",
     "text": [
      "/local/S.Rasp/preprocessed_data/000_norm.nc\r\n",
      "/local/S.Rasp/preprocessed_data/000_train.nc\r\n",
      "/local/S.Rasp/preprocessed_data/000_train_shuffle.nc\r\n",
      "/local/S.Rasp/preprocessed_data/000_valid.nc\r\n"
     ]
    }
   ],
   "source": [
    "!ls /local/S.Rasp/preprocessed_data/000*"
   ]
  },
  {
   "cell_type": "markdown",
   "metadata": {
    "heading_collapsed": true
   },
   "source": [
    "## Training the model step-by-step\n",
    "\n",
    "Let's now go through the steps to train a neural network starting with the new data generator."
   ]
  },
  {
   "cell_type": "markdown",
   "metadata": {
    "hidden": true
   },
   "source": [
    "### Data generator\n",
    "\n",
    "To read the preprocessed file and feed the data to the neural net, we will use the `DataGenerator` class in the cbrain module. \n",
    "\n",
    "At this stage we will not define the variables we want in the input and output of the neural network."
   ]
  },
  {
   "cell_type": "code",
   "execution_count": 7,
   "metadata": {
    "hidden": true
   },
   "outputs": [],
   "source": [
    "in_vars = ['QBP', 'QCBP', 'QIBP', 'TBP', 'VBP', \n",
    "           'Qdt_adiabatic', 'QCdt_adiabatic', 'QIdt_adiabatic', 'Tdt_adiabatic', 'Vdt_adiabatic',\n",
    "           'PS', 'SOLIN', 'SHFLX', 'LHFLX']"
   ]
  },
  {
   "cell_type": "code",
   "execution_count": 8,
   "metadata": {
    "hidden": true
   },
   "outputs": [],
   "source": [
    "out_vars = ['PHQ', 'PHCLDLIQ', 'PHCLDICE', 'TPHYSTND', 'QRL', 'QRS', 'DTVKE', \n",
    "            'FSNT', 'FSNS', 'FLNT', 'FLNS', 'PRECT', 'PRECTEND', 'PRECST', 'PRECSTEN']"
   ]
  },
  {
   "cell_type": "markdown",
   "metadata": {
    "hidden": true
   },
   "source": [
    "Next we need to think about how we want to normalize/scale the inputs and outputs. \n",
    "\n",
    "For the inputs we will use a pretty standard normalization, which we will get to later.\n",
    "\n",
    "As for the outputs, we would like to scale each variable physically. For this we will create a dictionary, which will contain a factor or a vector of factors for each variable."
   ]
  },
  {
   "cell_type": "code",
   "execution_count": 9,
   "metadata": {
    "hidden": true
   },
   "outputs": [],
   "source": [
    "scale_dict = {\n",
    "    'PHQ': L_V/G, \n",
    "    'PHCLDLIQ': L_V/G, \n",
    "    'PHCLDICE': L_V/G, \n",
    "    'TPHYSTND': C_P/G, \n",
    "    'QRL': C_P/G, \n",
    "    'QRS': C_P/G, \n",
    "    'DTVKE': C_P/G, \n",
    "    'FSNT': 1, \n",
    "    'FSNS': 1, \n",
    "    'FLNT': 1, \n",
    "    'FLNS': 1, \n",
    "    'PRECT': RHO_L*L_V, \n",
    "    'PRECTEND': 1e-3*RHO_L*L_V, \n",
    "    'PRECST': RHO_L*L_V, \n",
    "    'PRECSTEN': 1e-3*RHO_L*L_V\n",
    "}"
   ]
  },
  {
   "cell_type": "code",
   "execution_count": 10,
   "metadata": {
    "hidden": true
   },
   "outputs": [],
   "source": [
    "# Takes representative value for PS since purpose is normalization\n",
    "PS = 1e5; P0 = 1e5;\n",
    "P = P0*hyai+PS*hybi; # Total pressure [Pa]\n",
    "dP = P[1:]-P[:-1]; # Differential pressure [Pa]  "
   ]
  },
  {
   "cell_type": "code",
   "execution_count": 11,
   "metadata": {
    "hidden": true
   },
   "outputs": [],
   "source": [
    "for v in ['PHQ', 'PHCLDLIQ', 'PHCLDICE', 'TPHYSTND', 'QRL', 'QRS']:\n",
    "    scale_dict[v] *= dP\n",
    "scale_dict['DTVKE'] *= (dP/DT)"
   ]
  },
  {
   "cell_type": "markdown",
   "metadata": {
    "hidden": true
   },
   "source": [
    "Now we will save this dictionary as a pickle file, so that we can later load it in th training script. "
   ]
  },
  {
   "cell_type": "code",
   "execution_count": 14,
   "metadata": {
    "hidden": true
   },
   "outputs": [],
   "source": [
    "save_pickle('./nn_config/scale_dicts/001_toms_scaling.pkl', scale_dict)"
   ]
  },
  {
   "cell_type": "markdown",
   "metadata": {
    "hidden": true
   },
   "source": [
    "With this dictionary, we can now use create a DataGenerator instance.\n",
    "\n",
    "A word about the normalization. The normalization is handled by Normalizer classes, defined in `normalization.py`. As default in `DataGenerator`, for input normalization the `InputNormalizer` class is used, while the outputs are scaled using the `DictNormalizer`. `DataGenerator` takes a tuple of strings for `input_transform`. This tuple describes which arrays from the normalization file (`norm_fn`) the input will be subtracted and divided by. \n",
    "\n",
    "If you want to create your own fancy normalization, you have to create such a Normalizer which has to have a `transform` method."
   ]
  },
  {
   "cell_type": "code",
   "execution_count": 15,
   "metadata": {
    "hidden": true
   },
   "outputs": [],
   "source": [
    "from cbrain.data_generator import DataGenerator"
   ]
  },
  {
   "cell_type": "code",
   "execution_count": 16,
   "metadata": {
    "hidden": true
   },
   "outputs": [],
   "source": [
    "train_gen = DataGenerator(\n",
    "    data_fn = '/local/S.Rasp/preprocessed_data/000_train_shuffle.nc',\n",
    "    input_vars = in_vars,\n",
    "    output_vars = out_vars,\n",
    "    norm_fn = '/local/S.Rasp/preprocessed_data/000_norm.nc',\n",
    "    input_transform = ('mean', 'maxrs'),\n",
    "    output_transform = scale_dict,\n",
    "    batch_size=1024,\n",
    "    shuffle=True\n",
    ")"
   ]
  },
  {
   "cell_type": "code",
   "execution_count": 19,
   "metadata": {
    "hidden": true
   },
   "outputs": [
    {
     "data": {
      "text/plain": [
       "((1024, 304), (1024, 218))"
      ]
     },
     "execution_count": 19,
     "metadata": {},
     "output_type": "execute_result"
    }
   ],
   "source": [
    "X, Y = train_gen[0]; X.shape, Y.shape"
   ]
  },
  {
   "cell_type": "markdown",
   "metadata": {
    "hidden": true
   },
   "source": [
    "### Create a model with conservation layers\n",
    "\n",
    "Next we need to create a model. This is just basic Keras. I will show here how to use the conservation layers written by Tom. These layers require some additional input, in particular the normalization information."
   ]
  },
  {
   "cell_type": "code",
   "execution_count": 21,
   "metadata": {
    "hidden": true
   },
   "outputs": [],
   "source": [
    "from cbrain.layers import *\n",
    "from tensorflow.keras.layers import *"
   ]
  },
  {
   "cell_type": "code",
   "execution_count": 22,
   "metadata": {
    "hidden": true
   },
   "outputs": [],
   "source": [
    "inp_layer = Input(shape=(304,))\n",
    "x = Dense(214, activation='elu')(inp_layer)\n",
    "x = SurRadLayer(\n",
    "    inp_div=train_gen.input_transform.div,\n",
    "    inp_sub=train_gen.input_transform.sub,\n",
    "    norm_q=scale_dict['PHQ']\n",
    ")([inp_layer, x])\n",
    "x = MassConsLayer(\n",
    "    inp_div=train_gen.input_transform.div,\n",
    "    inp_sub=train_gen.input_transform.sub,\n",
    "    norm_q=scale_dict['PHQ']\n",
    ")([inp_layer, x])\n",
    "out_layer = EntConsLayer(\n",
    "    inp_div=train_gen.input_transform.div,\n",
    "    inp_sub=train_gen.input_transform.sub,\n",
    "    norm_q=scale_dict['PHQ']\n",
    ")([inp_layer, x])\n",
    "model = tf.keras.models.Model(inp_layer, out_layer)"
   ]
  },
  {
   "cell_type": "code",
   "execution_count": 23,
   "metadata": {
    "hidden": true
   },
   "outputs": [
    {
     "name": "stdout",
     "output_type": "stream",
     "text": [
      "__________________________________________________________________________________________________\n",
      "Layer (type)                    Output Shape         Param #     Connected to                     \n",
      "==================================================================================================\n",
      "input_1 (InputLayer)            (None, 304)          0                                            \n",
      "__________________________________________________________________________________________________\n",
      "dense (Dense)                   (None, 214)          65270       input_1[0][0]                    \n",
      "__________________________________________________________________________________________________\n",
      "sur_rad_layer (SurRadLayer)     (None, 216)          0           input_1[0][0]                    \n",
      "                                                                 dense[0][0]                      \n",
      "__________________________________________________________________________________________________\n",
      "mass_cons_layer (MassConsLayer) (None, 217)          0           input_1[0][0]                    \n",
      "                                                                 sur_rad_layer[0][0]              \n",
      "__________________________________________________________________________________________________\n",
      "ent_cons_layer (EntConsLayer)   (None, 218)          0           input_1[0][0]                    \n",
      "                                                                 mass_cons_layer[0][0]            \n",
      "==================================================================================================\n",
      "Total params: 65,270\n",
      "Trainable params: 65,270\n",
      "Non-trainable params: 0\n",
      "__________________________________________________________________________________________________\n"
     ]
    }
   ],
   "source": [
    "model.summary()"
   ]
  },
  {
   "cell_type": "markdown",
   "metadata": {
    "hidden": true
   },
   "source": [
    "### Train the model with the weakly constrained energy loss\n",
    "\n",
    "Again, this is basic Keras. Tom implemented the option to penalize the network for violating physical constraints, however, which we will do here.\n",
    "\n",
    "I implemented the weakly constrained loss as a class in `losses.py`. When initializing this class, you need to pass the input_tensor from the model and again the normalization information.\n",
    "\n",
    "This loss computes three losses internally: the standard MSE, a loss for mass conservation and a loss for enthalpy conservation. You can weight the losses by changing the `alpha_*` parameters."
   ]
  },
  {
   "cell_type": "code",
   "execution_count": 24,
   "metadata": {
    "hidden": true
   },
   "outputs": [],
   "source": [
    "from cbrain.losses import *"
   ]
  },
  {
   "cell_type": "code",
   "execution_count": 25,
   "metadata": {
    "hidden": true
   },
   "outputs": [],
   "source": [
    "weak_loss = WeakLoss(inp_layer, inp_div=train_gen.input_transform.div, inp_sub=train_gen.input_transform.sub,\n",
    "                     norm_q=scale_dict['PHQ'])"
   ]
  },
  {
   "cell_type": "code",
   "execution_count": 27,
   "metadata": {
    "hidden": true
   },
   "outputs": [],
   "source": [
    "mass_loss = WeakLoss(inp_layer, inp_div=train_gen.input_transform.div, inp_sub=train_gen.input_transform.sub,\n",
    "                     norm_q=scale_dict['PHQ'], alpha_mass=1, alpha_ent=0, name='mass_loss')\n",
    "ent_loss = WeakLoss(inp_layer, inp_div=train_gen.input_transform.div, inp_sub=train_gen.input_transform.sub,\n",
    "                     norm_q=scale_dict['PHQ'], alpha_mass=0, alpha_ent=1, name='ent_loss')"
   ]
  },
  {
   "cell_type": "code",
   "execution_count": 29,
   "metadata": {
    "hidden": true
   },
   "outputs": [],
   "source": [
    "model.compile(tf.keras.optimizers.Adam(lr=0.01), loss=weak_loss, metrics=[mass_loss, ent_loss, mse])"
   ]
  },
  {
   "cell_type": "code",
   "execution_count": 30,
   "metadata": {
    "hidden": true
   },
   "outputs": [
    {
     "name": "stdout",
     "output_type": "stream",
     "text": [
      "Epoch 1/5\n",
      "3448/3448 [==============================] - 109s 32ms/step - loss: 740.1542 - mass_loss: 3.6446e-11 - ent_loss: 7.8155e-11 - mean_squared_error: 1480.3085\n",
      "Epoch 2/5\n",
      "3448/3448 [==============================] - 67s 20ms/step - loss: 540.9411 - mass_loss: 6.3662e-11 - ent_loss: 1.4316e-10 - mean_squared_error: 1081.8822\n",
      "Epoch 3/5\n",
      "3448/3448 [==============================] - 67s 19ms/step - loss: 419.6522 - mass_loss: 8.7082e-11 - ent_loss: 1.6894e-10 - mean_squared_error: 839.3044\n",
      "Epoch 4/5\n",
      "3448/3448 [==============================] - 66s 19ms/step - loss: 356.3085 - mass_loss: 1.0223e-10 - ent_loss: 1.9572e-10 - mean_squared_error: 712.6170\n",
      "Epoch 5/5\n",
      "3448/3448 [==============================] - 67s 19ms/step - loss: 322.0714 - mass_loss: 1.1291e-10 - ent_loss: 2.1134e-10 - mean_squared_error: 644.1428\n"
     ]
    },
    {
     "data": {
      "text/plain": [
       "<tensorflow.python.keras.callbacks.History at 0x7fd0fc0740b8>"
      ]
     },
     "execution_count": 30,
     "metadata": {},
     "output_type": "execute_result"
    }
   ],
   "source": [
    "model.fit_generator(train_gen, epochs=5)"
   ]
  },
  {
   "cell_type": "markdown",
   "metadata": {
    "hidden": true
   },
   "source": [
    "Naturally, since we are using a conserving network, the conservation losses are basically zero. Puh..."
   ]
  },
  {
   "cell_type": "markdown",
   "metadata": {},
   "source": [
    "## Train the network using the train.py script\n",
    "\n",
    "Doing the training in a notebook is good for experimentation but for testing different configurations and using large training datasets, we need a command line script, which is called `train.py`. So, let's check out how to use it.\n",
    "\n",
    "Again we will create a configuration file."
   ]
  },
  {
   "cell_type": "markdown",
   "metadata": {},
   "source": [
    "This is `000_example.yml`:\n",
    "\n",
    "```\n",
    "# Example training configuration file\n",
    "exp_name: 000_example\n",
    "data_dir: /local/S.Rasp/preprocessed_data/\n",
    "train_fn: 000_train_shuffle.nc\n",
    "valid_fn: 000_valid.nc\n",
    "norm_fn: 000_norm.nc\n",
    "\n",
    "inputs: [QBP, QCBP, QIBP, TBP, VBP, Qdt_adiabatic, QCdt_adiabatic, QIdt_adiabatic, Tdt_adiabatic, Vdt_adiabatic, PS, SOLIN, SHFLX, LHFLX]\n",
    "outputs: [PHQ, PHCLDLIQ, PHCLDICE, TPHYSTND, QRL, QRS, DTVKE, FSNT, FSNS, FLNT, FLNS, PRECT, PRECTEND, PRECST, PRECSTEN]\n",
    "\n",
    "input_sub: mean\n",
    "input_div: maxrs\n",
    "output_dict: /home/s/S.Rasp/repositories/CBRAIN-CAM/nn_config/scale_dicts/001_toms_scaling.pkl\n",
    "\n",
    "hidden_layers: [128, 214]\n",
    "epochs: 10\n",
    "conservation_layer: True\n",
    "loss: weak_loss\n",
    "```\n",
    "\n",
    "Most of the arguments are pretty self-explanatory (I hope). If you are confused look at the definition at the bottom of `train.py`.\n",
    "\n",
    "This script automatically uses learning rate decay.\n",
    "\n",
    "Additionally, and very importantly for the eventual implementation in CAM, it also saves the network and weights."
   ]
  },
  {
   "cell_type": "code",
   "execution_count": 31,
   "metadata": {},
   "outputs": [
    {
     "name": "stdout",
     "output_type": "stream",
     "text": [
      "2019-04-03 15:23:20.846557: I tensorflow/core/platform/cpu_feature_guard.cc:141] Your CPU supports instructions that this TensorFlow binary was not compiled to use: SSE4.1 SSE4.2 AVX AVX2 AVX512F FMA\n",
      "2019-04-03 15:23:20.982342: I tensorflow/core/common_runtime/gpu/gpu_device.cc:1432] Found device 0 with properties: \n",
      "name: GeForce GTX 1080 major: 6 minor: 1 memoryClockRate(GHz): 1.7335\n",
      "pciBusID: 0000:b3:00.0\n",
      "totalMemory: 7.93GiB freeMemory: 5.87GiB\n",
      "2019-04-03 15:23:20.982378: I tensorflow/core/common_runtime/gpu/gpu_device.cc:1511] Adding visible gpu devices: 0\n",
      "2019-04-03 15:23:21.453378: I tensorflow/core/common_runtime/gpu/gpu_device.cc:982] Device interconnect StreamExecutor with strength 1 edge matrix:\n",
      "2019-04-03 15:23:21.453417: I tensorflow/core/common_runtime/gpu/gpu_device.cc:988]      0 \n",
      "2019-04-03 15:23:21.453425: I tensorflow/core/common_runtime/gpu/gpu_device.cc:1001] 0:   N \n",
      "2019-04-03 15:23:21.453721: I tensorflow/core/common_runtime/gpu/gpu_device.cc:1115] Created TensorFlow device (/job:localhost/replica:0/task:0/device:GPU:0 with 5642 MB memory) -> physical GPU (device: 0, name: GeForce GTX 1080, pci bus id: 0000:b3:00.0, compute capability: 6.1)\n",
      "04/03/2019 03:23:21 PM Create training and validation data generators\n",
      "04/03/2019 03:23:21 PM Build model\n",
      "__________________________________________________________________________________________________\n",
      "Layer (type)                    Output Shape         Param #     Connected to                     \n",
      "==================================================================================================\n",
      "input_1 (InputLayer)            (None, 304)          0                                            \n",
      "__________________________________________________________________________________________________\n",
      "dense (Dense)                   (None, 256)          78080       input_1[0][0]                    \n",
      "__________________________________________________________________________________________________\n",
      "leaky_re_lu (LeakyReLU)         (None, 256)          0           dense[0][0]                      \n",
      "__________________________________________________________________________________________________\n",
      "dense_1 (Dense)                 (None, 256)          65792       leaky_re_lu[0][0]                \n",
      "__________________________________________________________________________________________________\n",
      "leaky_re_lu_1 (LeakyReLU)       (None, 256)          0           dense_1[0][0]                    \n",
      "__________________________________________________________________________________________________\n",
      "dense_2 (Dense)                 (None, 256)          65792       leaky_re_lu_1[0][0]              \n",
      "__________________________________________________________________________________________________\n",
      "leaky_re_lu_2 (LeakyReLU)       (None, 256)          0           dense_2[0][0]                    \n",
      "__________________________________________________________________________________________________\n",
      "dense_3 (Dense)                 (None, 214)          54998       leaky_re_lu_2[0][0]              \n",
      "__________________________________________________________________________________________________\n",
      "leaky_re_lu_3 (LeakyReLU)       (None, 214)          0           dense_3[0][0]                    \n",
      "__________________________________________________________________________________________________\n",
      "sur_rad_layer (SurRadLayer)     (None, 216)          0           input_1[0][0]                    \n",
      "                                                                 leaky_re_lu_3[0][0]              \n",
      "__________________________________________________________________________________________________\n",
      "mass_cons_layer (MassConsLayer) (None, 217)          0           input_1[0][0]                    \n",
      "                                                                 sur_rad_layer[0][0]              \n",
      "__________________________________________________________________________________________________\n",
      "ent_cons_layer (EntConsLayer)   (None, 218)          0           input_1[0][0]                    \n",
      "                                                                 mass_cons_layer[0][0]            \n",
      "==================================================================================================\n",
      "Total params: 264,662\n",
      "Trainable params: 264,662\n",
      "Non-trainable params: 0\n",
      "__________________________________________________________________________________________________\n",
      "None\n",
      "04/03/2019 03:23:21 PM Compile model\n",
      "04/03/2019 03:23:22 PM Train model\n",
      "2019-04-03 15:23:23.590239: I tensorflow/core/common_runtime/gpu/gpu_device.cc:1511] Adding visible gpu devices: 0\n",
      "2019-04-03 15:23:23.590287: I tensorflow/core/common_runtime/gpu/gpu_device.cc:982] Device interconnect StreamExecutor with strength 1 edge matrix:\n",
      "2019-04-03 15:23:23.590296: I tensorflow/core/common_runtime/gpu/gpu_device.cc:988]      0 \n",
      "2019-04-03 15:23:23.590305: I tensorflow/core/common_runtime/gpu/gpu_device.cc:1001] 0:   N \n",
      "2019-04-03 15:23:23.590595: I tensorflow/core/common_runtime/gpu/gpu_device.cc:1115] Created TensorFlow device (/job:localhost/replica:0/task:0/device:GPU:0 with 5642 MB memory) -> physical GPU (device: 0, name: GeForce GTX 1080, pci bus id: 0000:b3:00.0, compute capability: 6.1)\n",
      "Learning rate = 0.01\n",
      "Epoch 1/10\n",
      "3448/3448 [==============================] - 89s 26ms/step - loss: 66.6859 - mean_squared_error: 133.3718 - mass_loss: 3.4461e-10 - ent_loss: 3.2758e-10 - val_loss: 51.0592 - val_mean_squared_error: 102.1183 - val_mass_loss: 3.8388e-10 - val_ent_loss: 1.9052e-10\n",
      "Learning rate = 0.01\n",
      "Epoch 2/10\n",
      "3448/3448 [==============================] - 82s 24ms/step - loss: 50.0245 - mean_squared_error: 100.0490 - mass_loss: 3.7326e-10 - ent_loss: 3.3711e-10 - val_loss: 50.6125 - val_mean_squared_error: 101.2250 - val_mass_loss: 4.0006e-10 - val_ent_loss: 2.0463e-10\n",
      "Learning rate = 0.002\n",
      "Epoch 3/10\n",
      "3448/3448 [==============================] - 82s 24ms/step - loss: 44.0968 - mean_squared_error: 88.1936 - mass_loss: 3.8555e-10 - ent_loss: 3.3528e-10 - val_loss: 45.2651 - val_mean_squared_error: 90.5302 - val_mass_loss: 3.9009e-10 - val_ent_loss: 1.8705e-10\n",
      "Learning rate = 0.002\n",
      "Epoch 4/10\n",
      "3448/3448 [==============================] - 82s 24ms/step - loss: 43.1805 - mean_squared_error: 86.3610 - mass_loss: 3.9110e-10 - ent_loss: 3.3402e-10 - val_loss: 44.7589 - val_mean_squared_error: 89.5178 - val_mass_loss: 3.6946e-10 - val_ent_loss: 1.7980e-10\n",
      "Learning rate = 0.0004000000000000001\n",
      "Epoch 5/10\n",
      "3448/3448 [==============================] - 83s 24ms/step - loss: 41.5774 - mean_squared_error: 83.1547 - mass_loss: 3.9188e-10 - ent_loss: 3.3378e-10 - val_loss: 43.3000 - val_mean_squared_error: 86.5999 - val_mass_loss: 4.0520e-10 - val_ent_loss: 1.9103e-10\n",
      "Learning rate = 0.0004000000000000001\n",
      "Epoch 6/10\n",
      "3448/3448 [==============================] - 83s 24ms/step - loss: 41.2948 - mean_squared_error: 82.5897 - mass_loss: 3.9295e-10 - ent_loss: 3.3513e-10 - val_loss: 43.2729 - val_mean_squared_error: 86.5458 - val_mass_loss: 3.8670e-10 - val_ent_loss: 1.8113e-10\n",
      "Learning rate = 8.000000000000002e-05\n",
      "Epoch 7/10\n",
      "3448/3448 [==============================] - 82s 24ms/step - loss: 40.8886 - mean_squared_error: 81.7773 - mass_loss: 3.9385e-10 - ent_loss: 3.3514e-10 - val_loss: 42.9063 - val_mean_squared_error: 85.8126 - val_mass_loss: 4.0482e-10 - val_ent_loss: 1.8694e-10\n",
      "Learning rate = 8.000000000000002e-05\n",
      "Epoch 8/10\n",
      "3448/3448 [==============================] - 82s 24ms/step - loss: 40.8127 - mean_squared_error: 81.6254 - mass_loss: 3.9597e-10 - ent_loss: 3.3652e-10 - val_loss: 42.8711 - val_mean_squared_error: 85.7422 - val_mass_loss: 4.0361e-10 - val_ent_loss: 1.8883e-10\n",
      "Learning rate = 1.6000000000000003e-05\n",
      "Epoch 9/10\n",
      "3448/3448 [==============================] - 83s 24ms/step - loss: 40.7166 - mean_squared_error: 81.4333 - mass_loss: 3.9348e-10 - ent_loss: 3.3688e-10 - val_loss: 42.8298 - val_mean_squared_error: 85.6596 - val_mass_loss: 4.0140e-10 - val_ent_loss: 1.8511e-10\n",
      "Learning rate = 1.6000000000000003e-05\n",
      "Epoch 10/10\n",
      "3448/3448 [==============================] - 82s 24ms/step - loss: 40.7036 - mean_squared_error: 81.4072 - mass_loss: 3.9575e-10 - ent_loss: 3.3639e-10 - val_loss: 42.8211 - val_mean_squared_error: 85.6422 - val_mass_loss: 4.0147e-10 - val_ent_loss: 1.8437e-10\n",
      "04/03/2019 03:37:14 PM Saving model as ./saved_models/000_example/model.h5\n"
     ]
    },
    {
     "name": "stdout",
     "output_type": "stream",
     "text": [
      "04/03/2019 03:37:15 PM Saving weights as ./saved_models/000_example/weights.h5\n",
      "04/03/2019 03:37:15 PM Done!\n"
     ]
    }
   ],
   "source": [
    "!python train.py -c nn_config/000_example.yml"
   ]
  },
  {
   "cell_type": "markdown",
   "metadata": {},
   "source": [
    "We see that we are overfitting quite a bit which is to be expected with such a small dataset."
   ]
  },
  {
   "cell_type": "code",
   "execution_count": 32,
   "metadata": {},
   "outputs": [
    {
     "name": "stdout",
     "output_type": "stream",
     "text": [
      "inp_div.txt\t   layer2_bias.txt    layer4_bias.txt\t weights.h5\r\n",
      "inp_sub.txt\t   layer2_kernel.txt  layer4_kernel.txt\r\n",
      "layer1_bias.txt    layer3_bias.txt    model.h5\r\n",
      "layer1_kernel.txt  layer3_kernel.txt  out_scale.txt\r\n"
     ]
    }
   ],
   "source": [
    "!ls ./saved_models/000_example/"
   ]
  },
  {
   "cell_type": "markdown",
   "metadata": {},
   "source": [
    "## Model diagnostics\n",
    "\n",
    "Finally, we would like to know how well our model does in more detail that just looking at the loss.\n",
    "\n",
    "For this I wrote the `ModelDiagnostics` class. It is designed to be convenient. Let's see what it can do.\n",
    "\n",
    "For basic usage it only needs two arguments: First, the configuration file used for neural network training and second the data file which is to be used for validation."
   ]
  },
  {
   "cell_type": "code",
   "execution_count": 35,
   "metadata": {},
   "outputs": [],
   "source": [
    "from cbrain.model_diagnostics import ModelDiagnostics"
   ]
  },
  {
   "cell_type": "code",
   "execution_count": 37,
   "metadata": {},
   "outputs": [],
   "source": [
    "md = ModelDiagnostics('nn_config/000_example.yml', '/local/S.Rasp/preprocessed_data/000_valid.nc')"
   ]
  },
  {
   "cell_type": "markdown",
   "metadata": {},
   "source": [
    "### Plotting\n",
    "\n",
    "The first thing we can do is plot the truth alongside the model prediction. These functions take all the regular matplotlib arguments."
   ]
  },
  {
   "cell_type": "code",
   "execution_count": 40,
   "metadata": {},
   "outputs": [
    {
     "data": {
      "image/png": "[encoded data removed]",
      "text/plain": [
       "<Figure size 864x360 with 4 Axes>"
      ]
     },
     "metadata": {
      "needs_background": "light"
     },
     "output_type": "display_data"
    }
   ],
   "source": [
    "md.plot_double_yz(itime=0, ilon=0, var='PHQ', vmin=-8e-8, vmax=8e-8, cmap='bwr');"
   ]
  },
  {
   "cell_type": "code",
   "execution_count": 42,
   "metadata": {},
   "outputs": [
    {
     "data": {
      "image/png": "[encoded data removed]",
      "text/plain": [
       "<Figure size 864x360 with 4 Axes>"
      ]
     },
     "metadata": {
      "needs_background": "light"
     },
     "output_type": "display_data"
    }
   ],
   "source": [
    "md.plot_double_xy(0, 0, 'PRECT');"
   ]
  },
  {
   "cell_type": "markdown",
   "metadata": {},
   "source": [
    "### Compute statistics\n",
    "\n",
    "Last but not least, we can compute statistics over the entire validation dataset."
   ]
  },
  {
   "cell_type": "code",
   "execution_count": 43,
   "metadata": {},
   "outputs": [
    {
     "data": {
      "application/vnd.jupyter.widget-view+json": {
       "model_id": "fd8e2b84970e41af9757cb0ace9d8f99",
       "version_major": 2,
       "version_minor": 0
      },
      "text/plain": [
       "HBox(children=(IntProgress(value=0, max=431), HTML(value='')))"
      ]
     },
     "metadata": {},
     "output_type": "display_data"
    },
    {
     "name": "stdout",
     "output_type": "stream",
     "text": [
      "\n"
     ]
    },
    {
     "name": "stderr",
     "output_type": "stream",
     "text": [
      "/home/s/S.Rasp/repositories/CBRAIN-CAM/cbrain/model_diagnostics/model_diagnostics.py:130: RuntimeWarning: divide by zero encountered in true_divide\n",
      "  self.stats['r2'] = 1. - (self.stats['mse'] / self.stats['true_var'])\n",
      "/home/s/S.Rasp/repositories/CBRAIN-CAM/cbrain/model_diagnostics/model_diagnostics.py:136: RuntimeWarning: divide by zero encountered in true_divide\n",
      "  self.stats['hor_r2'] = 1 - (self.stats['hor_mse'] / self.stats['hor_tvar'])\n"
     ]
    }
   ],
   "source": [
    "md.compute_stats()"
   ]
  },
  {
   "cell_type": "markdown",
   "metadata": {},
   "source": [
    "Now there is a stats dictionary containing many statistics. If you want to implement your own statistics, you wil have to do so in the `compute_stats` method."
   ]
  },
  {
   "cell_type": "code",
   "execution_count": 45,
   "metadata": {},
   "outputs": [
    {
     "data": {
      "text/plain": [
       "dict_keys(['bias', 'mse', 'pred_mean', 'true_mean', 'pred_sqmean', 'true_sqmean', 'pred_var', 'true_var', 'r2', 'hor_tsqmean', 'hor_tmean', 'hor_mse', 'hor_tvar', 'hor_r2'])"
      ]
     },
     "execution_count": 45,
     "metadata": {},
     "output_type": "execute_result"
    }
   ],
   "source": [
    "md.stats.keys()"
   ]
  },
  {
   "cell_type": "markdown",
   "metadata": {},
   "source": [
    "One common statistic, for example, is the R2. So let's plot that. The R2 is averaged over time but all other dimensions are still available. Further, the vertical level is still stacked, so we will have to figure out the variable indices."
   ]
  },
  {
   "cell_type": "code",
   "execution_count": 46,
   "metadata": {},
   "outputs": [
    {
     "data": {
      "text/plain": [
       "(64, 128, 218)"
      ]
     },
     "execution_count": 46,
     "metadata": {},
     "output_type": "execute_result"
    }
   ],
   "source": [
    "md.stats['r2'].shape"
   ]
  },
  {
   "cell_type": "code",
   "execution_count": 52,
   "metadata": {},
   "outputs": [
    {
     "data": {
      "text/plain": [
       "<matplotlib.colorbar.Colorbar at 0x7fd038130908>"
      ]
     },
     "execution_count": 52,
     "metadata": {},
     "output_type": "execute_result"
    },
    {
     "data": {
      "image/png": "[encoded data removed]",
      "text/plain": [
       "<Figure size 614.4x288 with 2 Axes>"
      ]
     },
     "metadata": {
      "needs_background": "light"
     },
     "output_type": "display_data"
    }
   ],
   "source": [
    "plt.matshow(md.stats['r2'][:, :, md.get_output_var_idx('PHQ')].mean(1).T, vmin=0, vmax=1, cmap='Spectral')\n",
    "plt.colorbar(shrink=0.7)"
   ]
  },
  {
   "cell_type": "markdown",
   "metadata": {},
   "source": [
    "We also like looking at the horizontally averaged R2 for each variable."
   ]
  },
  {
   "cell_type": "code",
   "execution_count": 53,
   "metadata": {},
   "outputs": [
    {
     "data": {
      "text/plain": [
       "(218,)"
      ]
     },
     "execution_count": 53,
     "metadata": {},
     "output_type": "execute_result"
    }
   ],
   "source": [
    "md.stats['hor_r2'].shape"
   ]
  },
  {
   "cell_type": "code",
   "execution_count": 55,
   "metadata": {},
   "outputs": [
    {
     "data": {
      "text/plain": [
       "['PHQ', 'PHCLDLIQ', 'PHCLDICE', 'TPHYSTND', 'QRL', 'QRS', 'DTVKE']"
      ]
     },
     "execution_count": 55,
     "metadata": {},
     "output_type": "execute_result"
    }
   ],
   "source": [
    "md.valid_gen.output_vars[:7]"
   ]
  },
  {
   "cell_type": "code",
   "execution_count": 64,
   "metadata": {},
   "outputs": [],
   "source": [
    "# Get the vertical coordinate in pressure levels\n",
    "PS = 1e5; P0 = 1e5;\n",
    "P = P0*hyai+PS*hybi; # Total pressure [Pa]\n",
    "P = (P[1:] + P[:-1]) / 2 / 100"
   ]
  },
  {
   "cell_type": "code",
   "execution_count": 68,
   "metadata": {},
   "outputs": [
    {
     "data": {
      "text/plain": [
       "<matplotlib.legend.Legend at 0x7fcff77317f0>"
      ]
     },
     "execution_count": 68,
     "metadata": {},
     "output_type": "execute_result"
    },
    {
     "data": {
      "image/png": "[encoded data removed]",
      "text/plain": [
       "<Figure size 576x576 with 1 Axes>"
      ]
     },
     "metadata": {
      "needs_background": "light"
     },
     "output_type": "display_data"
    }
   ],
   "source": [
    "fig, ax = plt.subplots(figsize=(8, 8))\n",
    "for v in md.valid_gen.output_vars[:7]:\n",
    "    ax.plot(md.stats['hor_r2'][md.get_output_var_idx(v)], P, label=v)\n",
    "ax.set_xlim(0, 1)\n",
    "ax.invert_yaxis()\n",
    "plt.legend()"
   ]
  },
  {
   "cell_type": "markdown",
   "metadata": {},
   "source": [
    "## Last words\n",
    "\n",
    "So this is the new version of cbrain. Feel free to fork you own branch and make changes. If you think this might be useful for others, just create a pull request.\n",
    "\n",
    "Let me know if you have questions,\n",
    "Stephan"
   ]
  }
 ],
 "metadata": {
  "kernelspec": {
   "display_name": "Python 3",
   "language": "python",
   "name": "python3"
  },
  "language_info": {
   "codemirror_mode": {
    "name": "ipython",
    "version": 3
   },
   "file_extension": ".py",
   "mimetype": "text/x-python",
   "name": "python",
   "nbconvert_exporter": "python",
   "pygments_lexer": "ipython3",
   "version": "3.6.8"
  },
  "toc": {
   "base_numbering": 1,
   "nav_menu": {},
   "number_sections": true,
   "sideBar": false,
   "skip_h1_title": true,
   "title_cell": "Table of Contents",
   "title_sidebar": "Contents",
   "toc_cell": false,
   "toc_position": {},
   "toc_section_display": true,
   "toc_window_display": false
  }
 },
 "nbformat": 4,
 "nbformat_minor": 2
}
